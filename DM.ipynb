{
  "nbformat": 4,
  "nbformat_minor": 0,
  "metadata": {
    "colab": {
      "provenance": [],
      "collapsed_sections": [
        "rsxuB_FoDPjI",
        "02z3LiEGDJFx"
      ]
    },
    "kernelspec": {
      "name": "python3",
      "display_name": "Python 3"
    },
    "language_info": {
      "name": "python"
    }
  },
  "cells": [
    {
      "cell_type": "markdown",
      "source": [
        "#  **Random Forest**\n"
      ],
      "metadata": {
        "id": "rsxuB_FoDPjI"
      }
    },
    {
      "cell_type": "code",
      "execution_count": 10,
      "metadata": {
        "colab": {
          "base_uri": "https://localhost:8080/",
          "height": 885
        },
        "id": "ZhzSWJ2G_W0u",
        "outputId": "2fcfcd2e-b7ef-40fc-fe05-f7211455aac5"
      },
      "outputs": [
        {
          "output_type": "stream",
          "name": "stdout",
          "text": [
            "準確率： 0.7860696517412935\n",
            "\n",
            "分類報告：\n",
            "              precision    recall  f1-score   support\n",
            "\n",
            "           0       0.80      0.89      0.84       130\n",
            "           1       0.75      0.59      0.66        71\n",
            "\n",
            "    accuracy                           0.79       201\n",
            "   macro avg       0.78      0.74      0.75       201\n",
            "weighted avg       0.78      0.79      0.78       201\n",
            "\n"
          ]
        },
        {
          "output_type": "display_data",
          "data": {
            "text/plain": [
              "<Figure size 600x500 with 1 Axes>"
            ],
            "image/png": "[encoded data removed]"
          },
          "metadata": {}
        },
        {
          "output_type": "stream",
          "name": "stdout",
          "text": [
            "\n",
            "特徵重要性：\n",
            "Glucose                     0.247270\n",
            "BMI                         0.178116\n",
            "Age                         0.125209\n",
            "DiabetesPedigreeFunction    0.120485\n",
            "BloodPressure               0.094920\n",
            "Insulin                     0.080935\n",
            "Pregnancies                 0.080464\n",
            "SkinThickness               0.072602\n",
            "dtype: float64\n"
          ]
        }
      ],
      "source": [
        "import pandas as pd\n",
        "import numpy as np\n",
        "from sklearn.ensemble import RandomForestClassifier\n",
        "from sklearn.metrics import classification_report, confusion_matrix, accuracy_score\n",
        "import matplotlib.pyplot as plt\n",
        "\n",
        "train_file = \"train_data_a.csv\"\n",
        "test_file = \"test_data_a.csv\"\n",
        "\n",
        "train_df = pd.read_csv(train_file)\n",
        "test_df = pd.read_csv(test_file)\n",
        "\n",
        "features = [\"Pregnancies\", \"Glucose\", \"BloodPressure\", \"SkinThickness\",\n",
        "            \"Insulin\", \"BMI\", \"DiabetesPedigreeFunction\", \"Age\"]\n",
        "target = \"Outcome\"\n",
        "\n",
        "X_train = train_df[features]\n",
        "y_train = train_df[target]\n",
        "X_test = test_df[features]\n",
        "y_test = test_df[target]\n",
        "\n",
        "rf_classifier = RandomForestClassifier(n_estimators=100, random_state=42)\n",
        "rf_classifier.fit(X_train, y_train)\n",
        "\n",
        "y_pred = rf_classifier.predict(X_test)\n",
        "\n",
        "accuracy = accuracy_score(y_test, y_pred)\n",
        "print(\"準確率：\", accuracy)\n",
        "print(\"\\n分類報告：\")\n",
        "print(classification_report(y_test, y_pred))\n",
        "\n",
        "conf_mat = confusion_matrix(y_test, y_pred)\n",
        "\n",
        "plt.figure(figsize=(6,5))\n",
        "plt.imshow(conf_mat, interpolation='nearest')\n",
        "plt.title(\"confusion matrix\")\n",
        "tick_marks = np.arange(len(np.unique(y_test)))\n",
        "plt.xticks(tick_marks, np.unique(y_test))\n",
        "plt.yticks(tick_marks, np.unique(y_test))\n",
        "plt.xlabel(\"prediction\")\n",
        "plt.ylabel(\"actual\")\n",
        "\n",
        "thresh = conf_mat.max() / 2.\n",
        "for i in range(conf_mat.shape[0]):\n",
        "    for j in range(conf_mat.shape[1]):\n",
        "        plt.text(j, i, format(conf_mat[i, j], 'd'),\n",
        "                 ha=\"center\", va=\"center\",\n",
        "                 color=\"white\" if conf_mat[i, j] > thresh else \"black\")\n",
        "plt.show()\n",
        "\n",
        "importances = rf_classifier.feature_importances_\n",
        "feature_importances = pd.Series(importances, index=features)\n",
        "\n",
        "print(\"\\n特徵重要性：\")\n",
        "print(feature_importances.sort_values(ascending=False))\n"
      ]
    },
    {
      "cell_type": "code",
      "source": [
        "import pandas as pd\n",
        "import numpy as np\n",
        "from sklearn.ensemble import RandomForestClassifier\n",
        "from sklearn.metrics import classification_report, confusion_matrix, accuracy_score\n",
        "import matplotlib.pyplot as plt\n",
        "\n",
        "train_file = \"train_data_b.csv\"\n",
        "test_file = \"test_data_b.csv\"\n",
        "\n",
        "train_df = pd.read_csv(train_file)\n",
        "test_df = pd.read_csv(test_file)\n",
        "\n",
        "features = [\"Pregnancies\", \"Glucose\", \"BloodPressure\", \"SkinThickness\",\n",
        "            \"Insulin\", \"BMI\", \"DiabetesPedigreeFunction\", \"Age\"]\n",
        "target = \"Outcome\"\n",
        "\n",
        "X_train = train_df[features]\n",
        "y_train = train_df[target]\n",
        "X_test = test_df[features]\n",
        "y_test = test_df[target]\n",
        "\n",
        "rf_classifier = RandomForestClassifier(n_estimators=100, random_state=42)\n",
        "rf_classifier.fit(X_train, y_train)\n",
        "\n",
        "y_pred = rf_classifier.predict(X_test)\n",
        "\n",
        "accuracy = accuracy_score(y_test, y_pred)\n",
        "print(\"準確率：\", accuracy)\n",
        "print(\"\\n分類報告：\")\n",
        "print(classification_report(y_test, y_pred))\n",
        "\n",
        "conf_mat = confusion_matrix(y_test, y_pred)\n",
        "\n",
        "plt.figure(figsize=(6,5))\n",
        "plt.imshow(conf_mat, interpolation='nearest')\n",
        "plt.title(\"confusion matrix\")\n",
        "tick_marks = np.arange(len(np.unique(y_test)))\n",
        "plt.xticks(tick_marks, np.unique(y_test))\n",
        "plt.yticks(tick_marks, np.unique(y_test))\n",
        "plt.xlabel(\"prediction\")\n",
        "plt.ylabel(\"actual\")\n",
        "\n",
        "thresh = conf_mat.max() / 2.\n",
        "for i in range(conf_mat.shape[0]):\n",
        "    for j in range(conf_mat.shape[1]):\n",
        "        plt.text(j, i, format(conf_mat[i, j], 'd'),\n",
        "                 ha=\"center\", va=\"center\",\n",
        "                 color=\"white\" if conf_mat[i, j] > thresh else \"black\")\n",
        "plt.show()\n",
        "\n",
        "importances = rf_classifier.feature_importances_\n",
        "feature_importances = pd.Series(importances, index=features)\n",
        "\n",
        "print(\"\\n特徵重要性：\")\n",
        "print(feature_importances.sort_values(ascending=False))\n"
      ],
      "metadata": {
        "colab": {
          "base_uri": "https://localhost:8080/",
          "height": 885
        },
        "id": "bWKc1eY9A68v",
        "outputId": "e769acb1-0cd7-470f-aa1d-b200f9292c7d"
      },
      "execution_count": 11,
      "outputs": [
        {
          "output_type": "stream",
          "name": "stdout",
          "text": [
            "準確率： 0.82\n",
            "\n",
            "分類報告：\n",
            "              precision    recall  f1-score   support\n",
            "\n",
            "           0       0.81      0.94      0.87        63\n",
            "           1       0.85      0.62      0.72        37\n",
            "\n",
            "    accuracy                           0.82       100\n",
            "   macro avg       0.83      0.78      0.79       100\n",
            "weighted avg       0.82      0.82      0.81       100\n",
            "\n"
          ]
        },
        {
          "output_type": "display_data",
          "data": {
            "text/plain": [
              "<Figure size 600x500 with 1 Axes>"
            ],
            "image/png": "[encoded data removed]"
          },
          "metadata": {}
        },
        {
          "output_type": "stream",
          "name": "stdout",
          "text": [
            "\n",
            "特徵重要性：\n",
            "Glucose                     0.257049\n",
            "BMI                         0.169493\n",
            "Age                         0.136166\n",
            "DiabetesPedigreeFunction    0.122459\n",
            "BloodPressure               0.092250\n",
            "Pregnancies                 0.084845\n",
            "Insulin                     0.070932\n",
            "SkinThickness               0.066805\n",
            "dtype: float64\n"
          ]
        }
      ]
    },
    {
      "cell_type": "markdown",
      "source": [
        "# **k-means + SVM**"
      ],
      "metadata": {
        "id": "02z3LiEGDJFx"
      }
    },
    {
      "cell_type": "code",
      "source": [
        "import pandas as pd\n",
        "import numpy as np\n",
        "from sklearn.svm import SVC\n",
        "from sklearn.cluster import KMeans\n",
        "from sklearn.preprocessing import StandardScaler\n",
        "from sklearn.metrics import classification_report, confusion_matrix, accuracy_score\n",
        "import matplotlib.pyplot as plt\n",
        "\n",
        "train_file = \"train_data_a.csv\"\n",
        "test_file = \"test_data_a.csv\"\n",
        "\n",
        "train_df = pd.read_csv(train_file)\n",
        "test_df = pd.read_csv(test_file)\n",
        "\n",
        "features = [\"Pregnancies\", \"Glucose\", \"BloodPressure\", \"SkinThickness\",\n",
        "            \"Insulin\", \"BMI\", \"DiabetesPedigreeFunction\", \"Age\"]\n",
        "target = \"Outcome\"\n",
        "\n",
        "X_train = train_df[features]\n",
        "y_train = train_df[target]\n",
        "X_test = test_df[features]\n",
        "y_test = test_df[target]\n",
        "\n",
        "scaler = StandardScaler()\n",
        "X_train_scaled = scaler.fit_transform(X_train)\n",
        "X_test_scaled = scaler.transform(X_test)\n",
        "\n",
        "n_clusters = 2\n",
        "kmeans = KMeans(n_clusters=n_clusters, random_state=42)\n",
        "kmeans.fit(X_train_scaled)\n",
        "\n",
        "train_cluster_labels = kmeans.predict(X_train_scaled).reshape(-1, 1)\n",
        "test_cluster_labels = kmeans.predict(X_test_scaled).reshape(-1, 1)\n",
        "\n",
        "train_cluster_distances = kmeans.transform(X_train_scaled)\n",
        "test_cluster_distances = kmeans.transform(X_test_scaled)\n",
        "\n",
        "X_train_new = np.hstack((X_train_scaled, train_cluster_labels, train_cluster_distances))\n",
        "X_test_new = np.hstack((X_test_scaled, test_cluster_labels, test_cluster_distances))\n",
        "\n",
        "svm_classifier = SVC(kernel='rbf', random_state=42)\n",
        "svm_classifier.fit(X_train_new, y_train)\n",
        "\n",
        "y_pred = svm_classifier.predict(X_test_new)\n",
        "\n",
        "accuracy = accuracy_score(y_test, y_pred)\n",
        "print(\"準確率：\", accuracy)\n",
        "print(\"\\n分類報告：\")\n",
        "print(classification_report(y_test, y_pred))\n",
        "\n",
        "conf_mat = confusion_matrix(y_test, y_pred)\n",
        "\n",
        "plt.figure(figsize=(6,5))\n",
        "plt.imshow(conf_mat, interpolation='nearest')\n",
        "plt.title(\"confusion matrix\")\n",
        "tick_marks = np.arange(len(np.unique(y_test)))\n",
        "plt.xticks(tick_marks, np.unique(y_test))\n",
        "plt.yticks(tick_marks, np.unique(y_test))\n",
        "plt.xlabel(\"prediction\")\n",
        "plt.ylabel(\"actual\")\n",
        "\n",
        "thresh = conf_mat.max() / 2.\n",
        "for i in range(conf_mat.shape[0]):\n",
        "    for j in range(conf_mat.shape[1]):\n",
        "        plt.text(j, i, format(conf_mat[i, j], 'd'),\n",
        "                 ha=\"center\", va=\"center\",\n",
        "                 color=\"white\" if conf_mat[i, j] > thresh else \"black\")\n",
        "plt.show()\n"
      ],
      "metadata": {
        "id": "kuCgJjSfRsnj",
        "colab": {
          "base_uri": "https://localhost:8080/",
          "height": 694
        },
        "outputId": "cc7430ba-1b87-4566-ae42-af6d555fae71"
      },
      "execution_count": 13,
      "outputs": [
        {
          "output_type": "stream",
          "name": "stdout",
          "text": [
            "準確率： 0.8059701492537313\n",
            "\n",
            "分類報告：\n",
            "              precision    recall  f1-score   support\n",
            "\n",
            "           0       0.81      0.92      0.86       130\n",
            "           1       0.81      0.59      0.68        71\n",
            "\n",
            "    accuracy                           0.81       201\n",
            "   macro avg       0.81      0.76      0.77       201\n",
            "weighted avg       0.81      0.81      0.80       201\n",
            "\n"
          ]
        },
        {
          "output_type": "display_data",
          "data": {
            "text/plain": [
              "<Figure size 600x500 with 1 Axes>"
            ],
            "image/png": "[encoded data removed]"
          },
          "metadata": {}
        }
      ]
    },
    {
      "cell_type": "code",
      "source": [
        "import pandas as pd\n",
        "import numpy as np\n",
        "from sklearn.svm import SVC\n",
        "from sklearn.cluster import KMeans\n",
        "from sklearn.preprocessing import StandardScaler\n",
        "from sklearn.metrics import classification_report, confusion_matrix, accuracy_score\n",
        "import matplotlib.pyplot as plt\n",
        "\n",
        "train_file = \"train_data_b.csv\"\n",
        "test_file = \"test_data_b.csv\"\n",
        "\n",
        "train_df = pd.read_csv(train_file)\n",
        "test_df = pd.read_csv(test_file)\n",
        "\n",
        "features = [\"Pregnancies\", \"Glucose\", \"BloodPressure\", \"SkinThickness\",\n",
        "            \"Insulin\", \"BMI\", \"DiabetesPedigreeFunction\", \"Age\"]\n",
        "target = \"Outcome\"\n",
        "\n",
        "X_train = train_df[features]\n",
        "y_train = train_df[target]\n",
        "X_test = test_df[features]\n",
        "y_test = test_df[target]\n",
        "\n",
        "scaler = StandardScaler()\n",
        "X_train_scaled = scaler.fit_transform(X_train)\n",
        "X_test_scaled = scaler.transform(X_test)\n",
        "\n",
        "n_clusters = 2\n",
        "kmeans = KMeans(n_clusters=n_clusters, random_state=42)\n",
        "kmeans.fit(X_train_scaled)\n",
        "\n",
        "train_cluster_labels = kmeans.predict(X_train_scaled).reshape(-1, 1)\n",
        "test_cluster_labels = kmeans.predict(X_test_scaled).reshape(-1, 1)\n",
        "\n",
        "train_cluster_distances = kmeans.transform(X_train_scaled)\n",
        "test_cluster_distances = kmeans.transform(X_test_scaled)\n",
        "\n",
        "X_train_new = np.hstack((X_train_scaled, train_cluster_labels, train_cluster_distances))\n",
        "X_test_new = np.hstack((X_test_scaled, test_cluster_labels, test_cluster_distances))\n",
        "\n",
        "svm_classifier = SVC(kernel='rbf', random_state=42)\n",
        "svm_classifier.fit(X_train_new, y_train)\n",
        "\n",
        "y_pred = svm_classifier.predict(X_test_new)\n",
        "\n",
        "accuracy = accuracy_score(y_test, y_pred)\n",
        "print(\"準確率：\", accuracy)\n",
        "print(\"\\n分類報告：\")\n",
        "print(classification_report(y_test, y_pred))\n",
        "\n",
        "conf_mat = confusion_matrix(y_test, y_pred)\n",
        "\n",
        "plt.figure(figsize=(6,5))\n",
        "plt.imshow(conf_mat, interpolation='nearest')\n",
        "plt.title(\"confusion matrix\")\n",
        "tick_marks = np.arange(len(np.unique(y_test)))\n",
        "plt.xticks(tick_marks, np.unique(y_test))\n",
        "plt.yticks(tick_marks, np.unique(y_test))\n",
        "plt.xlabel(\"prediction\")\n",
        "plt.ylabel(\"actual\")\n",
        "\n",
        "thresh = conf_mat.max() / 2.\n",
        "for i in range(conf_mat.shape[0]):\n",
        "    for j in range(conf_mat.shape[1]):\n",
        "        plt.text(j, i, format(conf_mat[i, j], 'd'),\n",
        "                 ha=\"center\", va=\"center\",\n",
        "                 color=\"white\" if conf_mat[i, j] > thresh else \"black\")\n",
        "plt.show()\n"
      ],
      "metadata": {
        "colab": {
          "base_uri": "https://localhost:8080/",
          "height": 694
        },
        "id": "-VKHglv-T5fA",
        "outputId": "a0523588-4947-4c72-8554-de56df624da7"
      },
      "execution_count": 14,
      "outputs": [
        {
          "output_type": "stream",
          "name": "stdout",
          "text": [
            "準確率： 0.8\n",
            "\n",
            "分類報告：\n",
            "              precision    recall  f1-score   support\n",
            "\n",
            "           0       0.78      0.95      0.86        63\n",
            "           1       0.87      0.54      0.67        37\n",
            "\n",
            "    accuracy                           0.80       100\n",
            "   macro avg       0.82      0.75      0.76       100\n",
            "weighted avg       0.81      0.80      0.79       100\n",
            "\n"
          ]
        },
        {
          "output_type": "display_data",
          "data": {
            "text/plain": [
              "<Figure size 600x500 with 1 Axes>"
            ],
            "image/png": "[encoded data removed]"
          },
          "metadata": {}
        }
      ]
    }
  ]
}